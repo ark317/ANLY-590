{
  "nbformat": 4,
  "nbformat_minor": 0,
  "metadata": {
    "colab": {
      "name": "HW2_Q2.ipynb",
      "version": "0.3.2",
      "provenance": [],
      "collapsed_sections": []
    },
    "kernelspec": {
      "name": "python3",
      "display_name": "Python 3"
    },
    "accelerator": "GPU"
  },
  "cells": [
    {
      "metadata": {
        "id": "FUwjRKnqc0cZ",
        "colab_type": "text"
      },
      "cell_type": "markdown",
      "source": [
        "# **Question 2.1) Deep CNN**\n",
        "\n",
        "Instructions: *Build a deep CNN to classify the Fashion MNIST images. Provide a brief description of the architectural choices you’ve made: kernel sizes, strides, padding, network depth. Train your network end-to-end. Report on your model’s performance on training set and test set.*\n",
        "\n",
        "**Below, I create a Deep CNN model with the following architecture:**\n",
        "\n",
        "* Kernel size: 3x3\n",
        "* Strides: 2x2\n",
        "* Padding: No padding was applied so set set the padding to 'valid'. \n",
        "* Network depth: We apply a 2D convolutional layer with 32 filters, followed by another 2D convolutional layer with 64 filters. Then, we add a maxpooling layer, followed by dropout to prevent overfitting. After flattening, we add a Dense layer with 64 neurons, followed by Dropout. Finally, we add our final Dense output layer with 10 neurons that each corresponding to a class. "
      ]
    },
    {
      "metadata": {
        "id": "yaDlFgCbcwu8",
        "colab_type": "code",
        "colab": {}
      },
      "cell_type": "code",
      "source": [
        "#Import the packages we'll need. \n",
        "from keras.layers import Input, Dense, Conv2D, MaxPooling2D\n",
        "from keras.layers import UpSampling2D, Dropout, Activation, Flatten\n",
        "from keras.models import Model, Sequential\n",
        "import tensorflow as tf\n",
        "import keras\n",
        "import numpy as np\n",
        "from keras.utils import np_utils\n",
        "%matplotlib inline\n",
        "from matplotlib import pyplot as plt\n",
        "from keras.datasets import fashion_mnist\n",
        "from keras.callbacks import EarlyStopping "
      ],
      "execution_count": 0,
      "outputs": []
    },
    {
      "metadata": {
        "id": "rUKjsugndCY7",
        "colab_type": "text"
      },
      "cell_type": "markdown",
      "source": [
        "**Load in the Fashion MNIST datasets for classification.**\n"
      ]
    },
    {
      "metadata": {
        "id": "bD8Jiy_7c8rn",
        "colab_type": "code",
        "colab": {}
      },
      "cell_type": "code",
      "source": [
        "#Load in the Fashion MNIST datasets for classification.\n",
        "(X_train, Y_train), (X_test, Y_test) = fashion_mnist.load_data()\n",
        "\n",
        "X_train = X_train.astype('float32')\n",
        "X_test = X_test.astype('float32')"
      ],
      "execution_count": 0,
      "outputs": []
    },
    {
      "metadata": {
        "id": "6SYnzDAac9I8",
        "colab_type": "code",
        "outputId": "293acc1c-7e4c-4b8b-a5ad-0636f05d28cf",
        "colab": {
          "base_uri": "https://localhost:8080/",
          "height": 49
        }
      },
      "cell_type": "code",
      "source": [
        "print(\"X_train.shape:\", X_train.shape)\n",
        "print(\"X_test.shape:\", X_test.shape)"
      ],
      "execution_count": 0,
      "outputs": [
        {
          "output_type": "stream",
          "text": [
            "X_train.shape: (60000, 28, 28)\n",
            "X_test.shape: (10000, 28, 28)\n"
          ],
          "name": "stdout"
        }
      ]
    },
    {
      "metadata": {
        "id": "j26KVpI7dF6i",
        "colab_type": "code",
        "colab": {}
      },
      "cell_type": "code",
      "source": [
        "#Reshape the images so that they're 28x28 and are using 1 channel, which is black and white.\n",
        "X_train = X_train.reshape(X_train.shape[0], 28, 28,1)\n",
        "X_test = X_test.reshape(X_test.shape[0], 28, 28,1)"
      ],
      "execution_count": 0,
      "outputs": []
    },
    {
      "metadata": {
        "id": "v6KvfOlTdKE9",
        "colab_type": "code",
        "outputId": "f637c8cd-dbf3-426a-e0e2-c3324bf20608",
        "colab": {
          "base_uri": "https://localhost:8080/",
          "height": 49
        }
      },
      "cell_type": "code",
      "source": [
        "print(\"X_train.shape:\", X_train.shape)\n",
        "print(\"X_test.shape:\", X_test.shape)"
      ],
      "execution_count": 0,
      "outputs": [
        {
          "output_type": "stream",
          "text": [
            "X_train.shape: (60000, 28, 28, 1)\n",
            "X_test.shape: (10000, 28, 28, 1)\n"
          ],
          "name": "stdout"
        }
      ]
    },
    {
      "metadata": {
        "id": "rf-K7RNZdKj7",
        "colab_type": "code",
        "colab": {}
      },
      "cell_type": "code",
      "source": [
        "#Normalize the images.\n",
        "X_train /= 255\n",
        "X_test /= 255\n",
        "\n",
        "#One-hot encode the labels.\n",
        "Y_train = np_utils.to_categorical(Y_train, 10)\n",
        "Y_test = np_utils.to_categorical(Y_test, 10)"
      ],
      "execution_count": 0,
      "outputs": []
    },
    {
      "metadata": {
        "id": "NCBWluRcdURs",
        "colab_type": "text"
      },
      "cell_type": "markdown",
      "source": [
        "**Creating the Deep CNN model.**"
      ]
    },
    {
      "metadata": {
        "id": "uQ0FAtnQdGlF",
        "colab_type": "code",
        "colab": {}
      },
      "cell_type": "code",
      "source": [
        "#Creating the Deep CNN model.\n",
        "cnn_model = Sequential()\n",
        "cnn_model.add(Conv2D(filters = 32,kernel_size=(3, 3), activation='relu', strides=(2, 2), padding='valid', input_shape=(28,28,1)))\n",
        "cnn_model.add(Conv2D(filters = 64,kernel_size=(3, 3), activation='relu', strides=(2, 2), padding='valid'))\n",
        "cnn_model.add(MaxPooling2D(pool_size=(2,2)))\n",
        "cnn_model.add(Dropout(0.30))\n",
        "\n",
        "cnn_model.add(Flatten())\n",
        "cnn_model.add(Dense(64, activation='relu'))\n",
        "cnn_model.add(Dropout(0.5))\n",
        "cnn_model.add(Dense(10, activation='softmax')) #Adding the output layer, with 10 neurons for each of the 10 labels."
      ],
      "execution_count": 0,
      "outputs": []
    },
    {
      "metadata": {
        "id": "ozx4Cv05dRKA",
        "colab_type": "code",
        "colab": {}
      },
      "cell_type": "code",
      "source": [
        "#Compiling the model using categorical cross entropy and momentum with the adam optimizer. \n",
        "cnn_model.compile(loss='categorical_crossentropy', optimizer='adam', metrics=['accuracy'])"
      ],
      "execution_count": 0,
      "outputs": []
    },
    {
      "metadata": {
        "id": "nhFeNOkAdRi6",
        "colab_type": "code",
        "outputId": "16c7b0e9-147b-469b-e5e8-61cb24ce8e1b",
        "colab": {
          "base_uri": "https://localhost:8080/",
          "height": 1703
        }
      },
      "cell_type": "code",
      "source": [
        "from keras.callbacks import TensorBoard\n",
        "report = cnn_model.fit(X_train, Y_train, epochs = 50, shuffle = True, validation_data = (X_test, Y_test), batch_size = 128, callbacks = [TensorBoard(log_dir='/tmp/CNN_Image')] )\n"
      ],
      "execution_count": 0,
      "outputs": [
        {
          "output_type": "stream",
          "text": [
            "Train on 60000 samples, validate on 10000 samples\n",
            "Epoch 1/50\n",
            "60000/60000 [==============================] - 5s 88us/step - loss: 0.8691 - acc: 0.6842 - val_loss: 0.4986 - val_acc: 0.8203\n",
            "Epoch 2/50\n",
            "60000/60000 [==============================] - 5s 87us/step - loss: 0.5721 - acc: 0.7940 - val_loss: 0.4324 - val_acc: 0.8390\n",
            "Epoch 3/50\n",
            "60000/60000 [==============================] - 5s 87us/step - loss: 0.5070 - acc: 0.8171 - val_loss: 0.4013 - val_acc: 0.8516\n",
            "Epoch 4/50\n",
            "60000/60000 [==============================] - 5s 87us/step - loss: 0.4698 - acc: 0.8298 - val_loss: 0.3816 - val_acc: 0.8603\n",
            "Epoch 5/50\n",
            "60000/60000 [==============================] - 5s 87us/step - loss: 0.4448 - acc: 0.8398 - val_loss: 0.3674 - val_acc: 0.8665\n",
            "Epoch 6/50\n",
            "60000/60000 [==============================] - 5s 88us/step - loss: 0.4259 - acc: 0.8449 - val_loss: 0.3504 - val_acc: 0.8724\n",
            "Epoch 7/50\n",
            "60000/60000 [==============================] - 5s 89us/step - loss: 0.4105 - acc: 0.8506 - val_loss: 0.3461 - val_acc: 0.8697\n",
            "Epoch 8/50\n",
            "60000/60000 [==============================] - 5s 90us/step - loss: 0.3956 - acc: 0.8561 - val_loss: 0.3386 - val_acc: 0.8750\n",
            "Epoch 9/50\n",
            "60000/60000 [==============================] - 5s 91us/step - loss: 0.3834 - acc: 0.8602 - val_loss: 0.3270 - val_acc: 0.8797\n",
            "Epoch 10/50\n",
            "60000/60000 [==============================] - 5s 89us/step - loss: 0.3756 - acc: 0.8619 - val_loss: 0.3179 - val_acc: 0.8825\n",
            "Epoch 11/50\n",
            "60000/60000 [==============================] - 5s 90us/step - loss: 0.3630 - acc: 0.8680 - val_loss: 0.3154 - val_acc: 0.8826\n",
            "Epoch 12/50\n",
            "60000/60000 [==============================] - 6s 95us/step - loss: 0.3552 - acc: 0.8697 - val_loss: 0.3098 - val_acc: 0.8860\n",
            "Epoch 13/50\n",
            "60000/60000 [==============================] - 6s 94us/step - loss: 0.3502 - acc: 0.8713 - val_loss: 0.3032 - val_acc: 0.8861\n",
            "Epoch 14/50\n",
            "60000/60000 [==============================] - 6s 93us/step - loss: 0.3455 - acc: 0.8735 - val_loss: 0.3005 - val_acc: 0.8872\n",
            "Epoch 15/50\n",
            "60000/60000 [==============================] - 5s 90us/step - loss: 0.3374 - acc: 0.8781 - val_loss: 0.2967 - val_acc: 0.8898\n",
            "Epoch 16/50\n",
            "60000/60000 [==============================] - 5s 89us/step - loss: 0.3343 - acc: 0.8765 - val_loss: 0.2941 - val_acc: 0.8913\n",
            "Epoch 17/50\n",
            "60000/60000 [==============================] - 5s 86us/step - loss: 0.3302 - acc: 0.8790 - val_loss: 0.2859 - val_acc: 0.8947\n",
            "Epoch 18/50\n",
            "60000/60000 [==============================] - 5s 87us/step - loss: 0.3233 - acc: 0.8807 - val_loss: 0.2855 - val_acc: 0.8947\n",
            "Epoch 19/50\n",
            "60000/60000 [==============================] - 5s 90us/step - loss: 0.3208 - acc: 0.8815 - val_loss: 0.2831 - val_acc: 0.8944\n",
            "Epoch 20/50\n",
            "60000/60000 [==============================] - 5s 91us/step - loss: 0.3189 - acc: 0.8828 - val_loss: 0.2823 - val_acc: 0.8944\n",
            "Epoch 21/50\n",
            "60000/60000 [==============================] - 5s 84us/step - loss: 0.3128 - acc: 0.8859 - val_loss: 0.2802 - val_acc: 0.8957\n",
            "Epoch 22/50\n",
            "60000/60000 [==============================] - 5s 81us/step - loss: 0.3100 - acc: 0.8865 - val_loss: 0.2740 - val_acc: 0.8968\n",
            "Epoch 23/50\n",
            "60000/60000 [==============================] - 5s 82us/step - loss: 0.3046 - acc: 0.8883 - val_loss: 0.2839 - val_acc: 0.8945\n",
            "Epoch 24/50\n",
            "60000/60000 [==============================] - 5s 82us/step - loss: 0.3015 - acc: 0.8890 - val_loss: 0.2734 - val_acc: 0.8986\n",
            "Epoch 25/50\n",
            "60000/60000 [==============================] - 5s 82us/step - loss: 0.3023 - acc: 0.8896 - val_loss: 0.2729 - val_acc: 0.9011\n",
            "Epoch 26/50\n",
            "60000/60000 [==============================] - 5s 82us/step - loss: 0.2975 - acc: 0.8887 - val_loss: 0.2688 - val_acc: 0.9019\n",
            "Epoch 27/50\n",
            "60000/60000 [==============================] - 5s 83us/step - loss: 0.2959 - acc: 0.8897 - val_loss: 0.2672 - val_acc: 0.8993\n",
            "Epoch 28/50\n",
            "60000/60000 [==============================] - 5s 82us/step - loss: 0.2915 - acc: 0.8923 - val_loss: 0.2717 - val_acc: 0.8972\n",
            "Epoch 29/50\n",
            "60000/60000 [==============================] - 5s 82us/step - loss: 0.2901 - acc: 0.8928 - val_loss: 0.2672 - val_acc: 0.9030\n",
            "Epoch 30/50\n",
            "60000/60000 [==============================] - 5s 83us/step - loss: 0.2876 - acc: 0.8937 - val_loss: 0.2627 - val_acc: 0.9025\n",
            "Epoch 31/50\n",
            "60000/60000 [==============================] - 5s 83us/step - loss: 0.2858 - acc: 0.8955 - val_loss: 0.2647 - val_acc: 0.9028\n",
            "Epoch 32/50\n",
            "60000/60000 [==============================] - 5s 83us/step - loss: 0.2803 - acc: 0.8956 - val_loss: 0.2634 - val_acc: 0.9016\n",
            "Epoch 33/50\n",
            "60000/60000 [==============================] - 5s 83us/step - loss: 0.2789 - acc: 0.8960 - val_loss: 0.2623 - val_acc: 0.9026\n",
            "Epoch 34/50\n",
            "60000/60000 [==============================] - 5s 81us/step - loss: 0.2779 - acc: 0.8969 - val_loss: 0.2638 - val_acc: 0.9010\n",
            "Epoch 35/50\n",
            "60000/60000 [==============================] - 5s 82us/step - loss: 0.2770 - acc: 0.8962 - val_loss: 0.2593 - val_acc: 0.9023\n",
            "Epoch 36/50\n",
            "60000/60000 [==============================] - 5s 83us/step - loss: 0.2747 - acc: 0.8976 - val_loss: 0.2589 - val_acc: 0.9030\n",
            "Epoch 37/50\n",
            "60000/60000 [==============================] - 5s 82us/step - loss: 0.2707 - acc: 0.9008 - val_loss: 0.2571 - val_acc: 0.9038\n",
            "Epoch 38/50\n",
            "60000/60000 [==============================] - 5s 88us/step - loss: 0.2712 - acc: 0.8989 - val_loss: 0.2547 - val_acc: 0.9051\n",
            "Epoch 39/50\n",
            "60000/60000 [==============================] - 6s 94us/step - loss: 0.2684 - acc: 0.9003 - val_loss: 0.2628 - val_acc: 0.9027\n",
            "Epoch 40/50\n",
            "60000/60000 [==============================] - 5s 88us/step - loss: 0.2694 - acc: 0.9005 - val_loss: 0.2573 - val_acc: 0.9040\n",
            "Epoch 41/50\n",
            "60000/60000 [==============================] - 5s 88us/step - loss: 0.2662 - acc: 0.9007 - val_loss: 0.2562 - val_acc: 0.9054\n",
            "Epoch 42/50\n",
            "60000/60000 [==============================] - 5s 85us/step - loss: 0.2656 - acc: 0.9004 - val_loss: 0.2553 - val_acc: 0.9063\n",
            "Epoch 43/50\n",
            "60000/60000 [==============================] - 5s 87us/step - loss: 0.2627 - acc: 0.9034 - val_loss: 0.2631 - val_acc: 0.9033\n",
            "Epoch 44/50\n",
            "60000/60000 [==============================] - 5s 87us/step - loss: 0.2641 - acc: 0.9030 - val_loss: 0.2583 - val_acc: 0.9057\n",
            "Epoch 45/50\n",
            "60000/60000 [==============================] - 5s 85us/step - loss: 0.2610 - acc: 0.9017 - val_loss: 0.2637 - val_acc: 0.9046\n",
            "Epoch 46/50\n",
            "60000/60000 [==============================] - 5s 85us/step - loss: 0.2610 - acc: 0.9029 - val_loss: 0.2553 - val_acc: 0.9085\n",
            "Epoch 47/50\n",
            "60000/60000 [==============================] - 5s 86us/step - loss: 0.2586 - acc: 0.9032 - val_loss: 0.2556 - val_acc: 0.9031\n",
            "Epoch 48/50\n",
            "60000/60000 [==============================] - 5s 85us/step - loss: 0.2582 - acc: 0.9041 - val_loss: 0.2514 - val_acc: 0.9075\n",
            "Epoch 49/50\n",
            "60000/60000 [==============================] - 5s 86us/step - loss: 0.2568 - acc: 0.9032 - val_loss: 0.2520 - val_acc: 0.9084\n",
            "Epoch 50/50\n",
            "60000/60000 [==============================] - 5s 85us/step - loss: 0.2526 - acc: 0.9056 - val_loss: 0.2536 - val_acc: 0.9073\n"
          ],
          "name": "stdout"
        }
      ]
    },
    {
      "metadata": {
        "id": "kT_XET7uVj1N",
        "colab_type": "text"
      },
      "cell_type": "markdown",
      "source": [
        "**Calculate the CNN model's accuracy and loss over the training and testing set.**"
      ]
    },
    {
      "metadata": {
        "id": "a0ID1aTbVmWJ",
        "colab_type": "code",
        "colab": {
          "base_uri": "https://localhost:8080/",
          "height": 99
        },
        "outputId": "cac8464e-dfae-43e6-941e-6d7c6c7e4b21"
      },
      "cell_type": "code",
      "source": [
        "#Calculate the model's accuracy over the training and testing set. \n",
        "training_loss_accuracy = cnn_model.evaluate(X_train, Y_train, verbose=0)\n",
        "print('Training Loss:', training_loss_accuracy[0])\n",
        "print(\"Training accuracy:\", training_loss_accuracy[1])\n",
        "\n",
        "testing_loss_accuracy = cnn_model.evaluate(X_test, Y_test, verbose=0)\n",
        "print('\\nTesting Loss:', testing_loss_accuracy[0])\n",
        "print(\"Testing accuracy:\", testing_loss_accuracy[1])"
      ],
      "execution_count": 53,
      "outputs": [
        {
          "output_type": "stream",
          "text": [
            "Training Loss: 0.15990962920760116\n",
            "Training accuracy: 0.94155\n",
            "\n",
            "Testing Loss: 0.25359528139829635\n",
            "Testing accuracy: 0.9073\n"
          ],
          "name": "stdout"
        }
      ]
    },
    {
      "metadata": {
        "id": "bGgQcbF-WOl-",
        "colab_type": "text"
      },
      "cell_type": "markdown",
      "source": [
        "**Plotting the visualization for the CNN model's accuracy and loss for the training and testing sets.**"
      ]
    },
    {
      "metadata": {
        "id": "qtksUHDwzgld",
        "colab_type": "code",
        "outputId": "e49058cc-ad80-45d8-9106-ea0589ac3292",
        "colab": {
          "base_uri": "https://localhost:8080/",
          "height": 571
        }
      },
      "cell_type": "code",
      "source": [
        "#Plot the visualization for the CNN model's accuracy \n",
        "#for the training and testing sets.\n",
        "plt.plot(report.history['acc'])\n",
        "plt.plot(report.history['val_acc'])\n",
        "plt.title(\"CNN Model's Accuracy\")\n",
        "plt.ylabel('Accuracy')\n",
        "plt.xlabel('Number of epochs')\n",
        "plt.legend(['Train', 'Test'], loc='upper left')\n",
        "plt.show()\n",
        "\n",
        "#Plot the visualization for the CNN model's loss \n",
        "#for the training and testing sets.\n",
        "plt.plot(report.history['loss'])\n",
        "plt.plot(report.history['val_loss'])\n",
        "plt.title(\"CNN Model's Loss\")\n",
        "plt.ylabel('Loss')\n",
        "plt.xlabel('Number of epochs')\n",
        "plt.legend(['Train', 'Test'], loc='upper left')\n",
        "plt.show()"
      ],
      "execution_count": 0,
      "outputs": [
        {
          "output_type": "display_data",
          "data": {
            "image/png": "[encoded data removed]",
            "text/plain": [
              "<matplotlib.figure.Figure at 0x7f06c7487be0>"
            ]
          },
          "metadata": {
            "tags": []
          }
        },
        {
          "output_type": "display_data",
          "data": {
            "image/png": "[encoded data removed]",
            "text/plain": [
              "<matplotlib.figure.Figure at 0x7f06c7093e80>"
            ]
          },
          "metadata": {
            "tags": []
          }
        }
      ]
    },
    {
      "metadata": {
        "id": "lqj_RhdyclaO",
        "colab_type": "text"
      },
      "cell_type": "markdown",
      "source": [
        "# **Question 2.2) Transfer Learning**\n",
        "\n",
        "Below, we apply transfer learning on the Fashion MNIST dataset. In particular, we will be using the pre-trained VGG16 \n",
        "model, and will only be training on the final Dense layer. Instead of directly adding the weights to our new model, we\n",
        "will remove the last fully connected layers from VGG16, and will create bottleneck features from our training and testing sets.\n",
        "We will use these features in our new model, which will have one final dense layer. "
      ]
    },
    {
      "metadata": {
        "id": "m4bImMb6xd7M",
        "colab_type": "code",
        "colab": {}
      },
      "cell_type": "code",
      "source": [
        "from keras.applications.vgg16 import VGG16, preprocess_input, decode_predictions\n",
        "from keras.preprocessing.image import ImageDataGenerator, array_to_img, img_to_array, load_img\n",
        "from keras.optimizers import RMSprop\n",
        "from keras.callbacks import TensorBoard\n",
        "\n",
        "from keras.layers import Input, Dense, Conv2D, MaxPooling2D\n",
        "from keras.layers import UpSampling2D, Dropout, Activation, Flatten\n",
        "from keras.models import Model, Sequential\n",
        "from keras import backend as K\n",
        "import tensorflow as tf\n",
        "import keras\n",
        "import numpy as np\n",
        "from keras.utils import np_utils\n",
        "%matplotlib inline\n",
        "from matplotlib import pyplot as plt\n",
        "from keras.datasets import fashion_mnist\n",
        "from keras.callbacks import EarlyStopping \n",
        "import cv2\n",
        "from keras.datasets import fashion_mnist\n"
      ],
      "execution_count": 0,
      "outputs": []
    },
    {
      "metadata": {
        "id": "jlaWKCxAyagc",
        "colab_type": "text"
      },
      "cell_type": "markdown",
      "source": [
        "**Load in the Fashion MNIST dataset into our training and testing sets.**"
      ]
    },
    {
      "metadata": {
        "id": "bJPwt_fbQXoW",
        "colab_type": "code",
        "colab": {}
      },
      "cell_type": "code",
      "source": [
        "#Load in the MNIST datasets for classification.\n",
        "(X_train, Y_train), (X_test, Y_test) = fashion_mnist.load_data()\n",
        "\n",
        "X_train = X_train.astype('float32')\n",
        "X_test = X_test.astype('float32')\n",
        "\n",
        "#Encode labels in a one-hot-encoding format.\n",
        "Y_train = np_utils.to_categorical(Y_train, 10)\n",
        "Y_test = np_utils.to_categorical(Y_test, 10)\n"
      ],
      "execution_count": 0,
      "outputs": []
    },
    {
      "metadata": {
        "id": "FLHn7KUmyN81",
        "colab_type": "text"
      },
      "cell_type": "markdown",
      "source": [
        "**Converting Fashion MNIST training set to RBG, and resizing images for VGG16. **"
      ]
    },
    {
      "metadata": {
        "id": "E4rV3dBtQhze",
        "colab_type": "code",
        "colab": {}
      },
      "cell_type": "code",
      "source": [
        "#Converting Fashion MNIST training set to RBG. Resize each image to be of size 48x48, which VGG16 expects. \n",
        "X_train = [cv2.cvtColor(cv2.resize(i, (48,48)), cv2.COLOR_GRAY2BGR) for i in X_train]\n",
        "X_train = np.concatenate([arr[np.newaxis] for arr in X_train]).astype('float32')\n",
        "\n",
        "X_test = [cv2.cvtColor(cv2.resize(i, (48,48)), cv2.COLOR_GRAY2BGR) for i in X_test]\n",
        "X_test = np.concatenate([arr[np.newaxis] for arr in X_test]).astype('float32')"
      ],
      "execution_count": 0,
      "outputs": []
    },
    {
      "metadata": {
        "id": "rO9ea7PPRN5I",
        "colab_type": "code",
        "outputId": "c776505d-ebcd-4769-f2be-5608a0bdb13b",
        "colab": {
          "base_uri": "https://localhost:8080/",
          "height": 759
        }
      },
      "cell_type": "code",
      "source": [
        "#base of VGG16.\n",
        "conv_base = VGG16(weights=\"imagenet\",include_top=False,input_shape=(48,48,3)) \n",
        "conv_base.summary()"
      ],
      "execution_count": 0,
      "outputs": [
        {
          "output_type": "stream",
          "text": [
            "_________________________________________________________________\n",
            "Layer (type)                 Output Shape              Param #   \n",
            "=================================================================\n",
            "input_2 (InputLayer)         (None, 48, 48, 3)         0         \n",
            "_________________________________________________________________\n",
            "block1_conv1 (Conv2D)        (None, 48, 48, 64)        1792      \n",
            "_________________________________________________________________\n",
            "block1_conv2 (Conv2D)        (None, 48, 48, 64)        36928     \n",
            "_________________________________________________________________\n",
            "block1_pool (MaxPooling2D)   (None, 24, 24, 64)        0         \n",
            "_________________________________________________________________\n",
            "block2_conv1 (Conv2D)        (None, 24, 24, 128)       73856     \n",
            "_________________________________________________________________\n",
            "block2_conv2 (Conv2D)        (None, 24, 24, 128)       147584    \n",
            "_________________________________________________________________\n",
            "block2_pool (MaxPooling2D)   (None, 12, 12, 128)       0         \n",
            "_________________________________________________________________\n",
            "block3_conv1 (Conv2D)        (None, 12, 12, 256)       295168    \n",
            "_________________________________________________________________\n",
            "block3_conv2 (Conv2D)        (None, 12, 12, 256)       590080    \n",
            "_________________________________________________________________\n",
            "block3_conv3 (Conv2D)        (None, 12, 12, 256)       590080    \n",
            "_________________________________________________________________\n",
            "block3_pool (MaxPooling2D)   (None, 6, 6, 256)         0         \n",
            "_________________________________________________________________\n",
            "block4_conv1 (Conv2D)        (None, 6, 6, 512)         1180160   \n",
            "_________________________________________________________________\n",
            "block4_conv2 (Conv2D)        (None, 6, 6, 512)         2359808   \n",
            "_________________________________________________________________\n",
            "block4_conv3 (Conv2D)        (None, 6, 6, 512)         2359808   \n",
            "_________________________________________________________________\n",
            "block4_pool (MaxPooling2D)   (None, 3, 3, 512)         0         \n",
            "_________________________________________________________________\n",
            "block5_conv1 (Conv2D)        (None, 3, 3, 512)         2359808   \n",
            "_________________________________________________________________\n",
            "block5_conv2 (Conv2D)        (None, 3, 3, 512)         2359808   \n",
            "_________________________________________________________________\n",
            "block5_conv3 (Conv2D)        (None, 3, 3, 512)         2359808   \n",
            "_________________________________________________________________\n",
            "block5_pool (MaxPooling2D)   (None, 1, 1, 512)         0         \n",
            "=================================================================\n",
            "Total params: 14,714,688\n",
            "Trainable params: 14,714,688\n",
            "Non-trainable params: 0\n",
            "_________________________________________________________________\n"
          ],
          "name": "stdout"
        }
      ]
    },
    {
      "metadata": {
        "id": "8Qbgae-CyfNL",
        "colab_type": "text"
      },
      "cell_type": "markdown",
      "source": [
        "**Create bottleneck features for the training and testing data. **\n"
      ]
    },
    {
      "metadata": {
        "id": "R9KUe-fFRiYm",
        "colab_type": "code",
        "outputId": "40ac89d3-79ef-49e3-b3cf-110e78599125",
        "colab": {
          "base_uri": "https://localhost:8080/",
          "height": 49
        }
      },
      "cell_type": "code",
      "source": [
        "#create bottleneck features for the training and testing data.\n",
        "training_features = conv_base.predict(np.array(X_train), batch_size= 16 , verbose=1)\n",
        "testing_features = conv_base.predict(np.array(X_test), batch_size = 16, verbose=1)"
      ],
      "execution_count": 0,
      "outputs": [
        {
          "output_type": "stream",
          "text": [
            "60000/60000 [==============================] - 65s 1ms/step\n",
            "10000/10000 [==============================] - 10s 1ms/step\n"
          ],
          "name": "stdout"
        }
      ]
    },
    {
      "metadata": {
        "id": "DLxSXiXZRmg7",
        "colab_type": "code",
        "outputId": "37c0fec0-673a-4884-e51b-f9de0d4004a0",
        "colab": {
          "base_uri": "https://localhost:8080/",
          "height": 49
        }
      },
      "cell_type": "code",
      "source": [
        "print(\"training_features.shape:\", training_features.shape)\n",
        "print(\"testing_features:\", testing_features.shape)"
      ],
      "execution_count": 0,
      "outputs": [
        {
          "output_type": "stream",
          "text": [
            "training_features.shape: (60000, 1, 1, 512)\n",
            "testing_features: (10000, 1, 1, 512)\n"
          ],
          "name": "stdout"
        }
      ]
    },
    {
      "metadata": {
        "id": "s6_W9N_ORp57",
        "colab_type": "code",
        "colab": {}
      },
      "cell_type": "code",
      "source": [
        "#Flatten and reshape the extracted training and testing features learned from VGG16 for our new model.\n",
        "X_train_features = np.reshape(training_features, (training_features.shape[0], 512))\n",
        "X_test_features = np.reshape(testing_features, (testing_features.shape[0], 512))"
      ],
      "execution_count": 0,
      "outputs": []
    },
    {
      "metadata": {
        "id": "NWFx-J2iyr4w",
        "colab_type": "text"
      },
      "cell_type": "markdown",
      "source": [
        "**Create the transfer learning model. **"
      ]
    },
    {
      "metadata": {
        "id": "iJ_5meHRRs61",
        "colab_type": "code",
        "colab": {}
      },
      "cell_type": "code",
      "source": [
        "#Creating a model from the bottleneck features, with only the final Dense layer. \n",
        "transfer_learning_model = Sequential()\n",
        "transfer_learning_model.add(Dense(10, activation = 'softmax', input_dim = (512))) #Since Fashion MNIST has 10 classes, we will have 10 output neurons."
      ],
      "execution_count": 0,
      "outputs": []
    },
    {
      "metadata": {
        "id": "OKVC1zb-RuvM",
        "colab_type": "code",
        "colab": {}
      },
      "cell_type": "code",
      "source": [
        "#Compile the transfer learning model using categorical crossentropy.\n",
        "transfer_learning_model.compile(loss=\"categorical_crossentropy\", optimizer=RMSprop(1e-4),metrics=[\"acc\"])"
      ],
      "execution_count": 0,
      "outputs": []
    },
    {
      "metadata": {
        "id": "X0jhc22lRw2r",
        "colab_type": "code",
        "outputId": "a55fc787-e32d-4dcb-b3fb-8bc461ae8328",
        "colab": {
          "base_uri": "https://localhost:8080/",
          "height": 3353
        }
      },
      "cell_type": "code",
      "source": [
        "#Fit the transfer learning model over 100 epochs.\n",
        "from keras.callbacks import TensorBoard\n",
        "\n",
        "report = transfer_learning_model.fit(X_train_features, Y_train, epochs = 100, shuffle = True, validation_data = (X_test_features, Y_test), batch_size = 128, callbacks = [TensorBoard(log_dir='/tmp/CNN_Transfer_Learning')] )\n"
      ],
      "execution_count": 0,
      "outputs": [
        {
          "output_type": "stream",
          "text": [
            "Train on 60000 samples, validate on 10000 samples\n",
            "Epoch 1/100\n",
            "60000/60000 [==============================] - 3s 47us/step - loss: 6.7112 - acc: 0.3931 - val_loss: 3.7663 - val_acc: 0.5790\n",
            "Epoch 2/100\n",
            "60000/60000 [==============================] - 2s 39us/step - loss: 2.8894 - acc: 0.6548 - val_loss: 2.3969 - val_acc: 0.6939\n",
            "Epoch 3/100\n",
            "60000/60000 [==============================] - 2s 39us/step - loss: 1.9961 - acc: 0.7232 - val_loss: 1.8156 - val_acc: 0.7348\n",
            "Epoch 4/100\n",
            "60000/60000 [==============================] - 2s 38us/step - loss: 1.5442 - acc: 0.7542 - val_loss: 1.5094 - val_acc: 0.7553\n",
            "Epoch 5/100\n",
            "60000/60000 [==============================] - 2s 36us/step - loss: 1.2835 - acc: 0.7726 - val_loss: 1.3082 - val_acc: 0.7696\n",
            "Epoch 6/100\n",
            "60000/60000 [==============================] - 2s 36us/step - loss: 1.1069 - acc: 0.7861 - val_loss: 1.1520 - val_acc: 0.7770\n",
            "Epoch 7/100\n",
            "60000/60000 [==============================] - 2s 35us/step - loss: 0.9785 - acc: 0.7953 - val_loss: 1.0402 - val_acc: 0.7823\n",
            "Epoch 8/100\n",
            "60000/60000 [==============================] - 2s 36us/step - loss: 0.8816 - acc: 0.8030 - val_loss: 0.9590 - val_acc: 0.7871\n",
            "Epoch 9/100\n",
            "60000/60000 [==============================] - 2s 36us/step - loss: 0.8048 - acc: 0.8100 - val_loss: 0.8842 - val_acc: 0.7918\n",
            "Epoch 10/100\n",
            "60000/60000 [==============================] - 2s 36us/step - loss: 0.7434 - acc: 0.8166 - val_loss: 0.8275 - val_acc: 0.7960\n",
            "Epoch 11/100\n",
            "60000/60000 [==============================] - 2s 35us/step - loss: 0.6925 - acc: 0.8213 - val_loss: 0.7837 - val_acc: 0.8020\n",
            "Epoch 12/100\n",
            "60000/60000 [==============================] - 2s 36us/step - loss: 0.6515 - acc: 0.8258 - val_loss: 0.7449 - val_acc: 0.8061\n",
            "Epoch 13/100\n",
            "60000/60000 [==============================] - 2s 36us/step - loss: 0.6157 - acc: 0.8308 - val_loss: 0.7111 - val_acc: 0.8129\n",
            "Epoch 14/100\n",
            "60000/60000 [==============================] - 2s 35us/step - loss: 0.5870 - acc: 0.8352 - val_loss: 0.6874 - val_acc: 0.8149\n",
            "Epoch 15/100\n",
            "60000/60000 [==============================] - 2s 36us/step - loss: 0.5616 - acc: 0.8364 - val_loss: 0.6631 - val_acc: 0.8147\n",
            "Epoch 16/100\n",
            "60000/60000 [==============================] - 2s 36us/step - loss: 0.5402 - acc: 0.8407 - val_loss: 0.6373 - val_acc: 0.8175\n",
            "Epoch 17/100\n",
            "60000/60000 [==============================] - 2s 35us/step - loss: 0.5211 - acc: 0.8436 - val_loss: 0.6231 - val_acc: 0.8205\n",
            "Epoch 18/100\n",
            "60000/60000 [==============================] - 2s 36us/step - loss: 0.5055 - acc: 0.8456 - val_loss: 0.6067 - val_acc: 0.8233\n",
            "Epoch 19/100\n",
            "60000/60000 [==============================] - 2s 35us/step - loss: 0.4918 - acc: 0.8478 - val_loss: 0.5895 - val_acc: 0.8267\n",
            "Epoch 20/100\n",
            "60000/60000 [==============================] - 2s 36us/step - loss: 0.4798 - acc: 0.8498 - val_loss: 0.5796 - val_acc: 0.8279\n",
            "Epoch 21/100\n",
            "60000/60000 [==============================] - 2s 36us/step - loss: 0.4692 - acc: 0.8520 - val_loss: 0.5701 - val_acc: 0.8297\n",
            "Epoch 22/100\n",
            "60000/60000 [==============================] - 2s 36us/step - loss: 0.4602 - acc: 0.8526 - val_loss: 0.5608 - val_acc: 0.8332\n",
            "Epoch 23/100\n",
            "60000/60000 [==============================] - 2s 37us/step - loss: 0.4530 - acc: 0.8546 - val_loss: 0.5549 - val_acc: 0.8306\n",
            "Epoch 24/100\n",
            "60000/60000 [==============================] - 2s 37us/step - loss: 0.4456 - acc: 0.8564 - val_loss: 0.5480 - val_acc: 0.8326\n",
            "Epoch 25/100\n",
            "60000/60000 [==============================] - 2s 40us/step - loss: 0.4397 - acc: 0.8573 - val_loss: 0.5421 - val_acc: 0.8349\n",
            "Epoch 26/100\n",
            "60000/60000 [==============================] - 2s 41us/step - loss: 0.4345 - acc: 0.8588 - val_loss: 0.5395 - val_acc: 0.8334\n",
            "Epoch 27/100\n",
            "60000/60000 [==============================] - 2s 41us/step - loss: 0.4297 - acc: 0.8595 - val_loss: 0.5309 - val_acc: 0.8370\n",
            "Epoch 28/100\n",
            "60000/60000 [==============================] - 2s 40us/step - loss: 0.4258 - acc: 0.8603 - val_loss: 0.5272 - val_acc: 0.8378\n",
            "Epoch 29/100\n",
            "60000/60000 [==============================] - 2s 40us/step - loss: 0.4221 - acc: 0.8598 - val_loss: 0.5241 - val_acc: 0.8369\n",
            "Epoch 30/100\n",
            "60000/60000 [==============================] - 2s 40us/step - loss: 0.4187 - acc: 0.8616 - val_loss: 0.5189 - val_acc: 0.8363\n",
            "Epoch 31/100\n",
            "60000/60000 [==============================] - 2s 42us/step - loss: 0.4160 - acc: 0.8615 - val_loss: 0.5173 - val_acc: 0.8375\n",
            "Epoch 32/100\n",
            "60000/60000 [==============================] - 2s 40us/step - loss: 0.4136 - acc: 0.8628 - val_loss: 0.5197 - val_acc: 0.8370\n",
            "Epoch 33/100\n",
            "60000/60000 [==============================] - 2s 41us/step - loss: 0.4110 - acc: 0.8632 - val_loss: 0.5172 - val_acc: 0.8399\n",
            "Epoch 34/100\n",
            "60000/60000 [==============================] - 2s 41us/step - loss: 0.4088 - acc: 0.8625 - val_loss: 0.5129 - val_acc: 0.8409\n",
            "Epoch 35/100\n",
            "60000/60000 [==============================] - 2s 40us/step - loss: 0.4070 - acc: 0.8637 - val_loss: 0.5090 - val_acc: 0.8399\n",
            "Epoch 36/100\n",
            "60000/60000 [==============================] - 2s 41us/step - loss: 0.4050 - acc: 0.8633 - val_loss: 0.5067 - val_acc: 0.8422\n",
            "Epoch 37/100\n",
            "60000/60000 [==============================] - 2s 39us/step - loss: 0.4038 - acc: 0.8642 - val_loss: 0.5086 - val_acc: 0.8399\n",
            "Epoch 38/100\n",
            "60000/60000 [==============================] - 2s 40us/step - loss: 0.4026 - acc: 0.8646 - val_loss: 0.5063 - val_acc: 0.8410\n",
            "Epoch 39/100\n",
            "60000/60000 [==============================] - 2s 40us/step - loss: 0.4010 - acc: 0.8647 - val_loss: 0.5036 - val_acc: 0.8416\n",
            "Epoch 40/100\n",
            "60000/60000 [==============================] - 2s 40us/step - loss: 0.3997 - acc: 0.8652 - val_loss: 0.5028 - val_acc: 0.8414\n",
            "Epoch 41/100\n",
            "60000/60000 [==============================] - 2s 41us/step - loss: 0.3988 - acc: 0.8657 - val_loss: 0.5036 - val_acc: 0.8410\n",
            "Epoch 42/100\n",
            "60000/60000 [==============================] - 2s 41us/step - loss: 0.3981 - acc: 0.8659 - val_loss: 0.5028 - val_acc: 0.8403\n",
            "Epoch 43/100\n",
            "60000/60000 [==============================] - 2s 41us/step - loss: 0.3969 - acc: 0.8664 - val_loss: 0.5030 - val_acc: 0.8415\n",
            "Epoch 44/100\n",
            "60000/60000 [==============================] - 2s 41us/step - loss: 0.3964 - acc: 0.8655 - val_loss: 0.5018 - val_acc: 0.8401\n",
            "Epoch 45/100\n",
            "60000/60000 [==============================] - 2s 40us/step - loss: 0.3955 - acc: 0.8663 - val_loss: 0.4992 - val_acc: 0.8407\n",
            "Epoch 46/100\n",
            "60000/60000 [==============================] - 2s 40us/step - loss: 0.3948 - acc: 0.8657 - val_loss: 0.5035 - val_acc: 0.8401\n",
            "Epoch 47/100\n",
            "60000/60000 [==============================] - 2s 41us/step - loss: 0.3940 - acc: 0.8671 - val_loss: 0.5007 - val_acc: 0.8426\n",
            "Epoch 48/100\n",
            "60000/60000 [==============================] - 2s 41us/step - loss: 0.3939 - acc: 0.8670 - val_loss: 0.4993 - val_acc: 0.8387\n",
            "Epoch 49/100\n",
            "60000/60000 [==============================] - 2s 41us/step - loss: 0.3935 - acc: 0.8662 - val_loss: 0.5010 - val_acc: 0.8406\n",
            "Epoch 50/100\n",
            "60000/60000 [==============================] - 2s 40us/step - loss: 0.3928 - acc: 0.8667 - val_loss: 0.5017 - val_acc: 0.8424\n",
            "Epoch 51/100\n",
            "60000/60000 [==============================] - 2s 41us/step - loss: 0.3923 - acc: 0.8669 - val_loss: 0.4988 - val_acc: 0.8431\n",
            "Epoch 52/100\n",
            "60000/60000 [==============================] - 2s 41us/step - loss: 0.3919 - acc: 0.8666 - val_loss: 0.4980 - val_acc: 0.8436\n",
            "Epoch 53/100\n",
            "60000/60000 [==============================] - 2s 41us/step - loss: 0.3913 - acc: 0.8673 - val_loss: 0.5012 - val_acc: 0.8418\n",
            "Epoch 54/100\n",
            "60000/60000 [==============================] - 2s 41us/step - loss: 0.3910 - acc: 0.8677 - val_loss: 0.4996 - val_acc: 0.8414\n",
            "Epoch 55/100\n",
            "60000/60000 [==============================] - 2s 40us/step - loss: 0.3907 - acc: 0.8676 - val_loss: 0.4996 - val_acc: 0.8412\n",
            "Epoch 56/100\n",
            "60000/60000 [==============================] - 2s 40us/step - loss: 0.3906 - acc: 0.8685 - val_loss: 0.4986 - val_acc: 0.8439\n",
            "Epoch 57/100\n",
            "60000/60000 [==============================] - 2s 39us/step - loss: 0.3905 - acc: 0.8672 - val_loss: 0.5034 - val_acc: 0.8418\n",
            "Epoch 58/100\n",
            "60000/60000 [==============================] - 2s 41us/step - loss: 0.3900 - acc: 0.8677 - val_loss: 0.5014 - val_acc: 0.8423\n",
            "Epoch 59/100\n",
            "60000/60000 [==============================] - 3s 42us/step - loss: 0.3894 - acc: 0.8677 - val_loss: 0.4986 - val_acc: 0.8425\n",
            "Epoch 60/100\n",
            "60000/60000 [==============================] - 2s 40us/step - loss: 0.3899 - acc: 0.8672 - val_loss: 0.5016 - val_acc: 0.8423\n",
            "Epoch 61/100\n",
            "60000/60000 [==============================] - 2s 41us/step - loss: 0.3890 - acc: 0.8678 - val_loss: 0.5004 - val_acc: 0.8417\n",
            "Epoch 62/100\n",
            "60000/60000 [==============================] - 2s 39us/step - loss: 0.3889 - acc: 0.8686 - val_loss: 0.5003 - val_acc: 0.8413\n",
            "Epoch 63/100\n",
            "60000/60000 [==============================] - 2s 36us/step - loss: 0.3886 - acc: 0.8689 - val_loss: 0.5055 - val_acc: 0.8401\n",
            "Epoch 64/100\n",
            "60000/60000 [==============================] - 2s 36us/step - loss: 0.3886 - acc: 0.8684 - val_loss: 0.5026 - val_acc: 0.8418\n",
            "Epoch 65/100\n",
            "60000/60000 [==============================] - 2s 37us/step - loss: 0.3890 - acc: 0.8683 - val_loss: 0.4994 - val_acc: 0.8421\n",
            "Epoch 66/100\n",
            "60000/60000 [==============================] - 2s 37us/step - loss: 0.3889 - acc: 0.8680 - val_loss: 0.5015 - val_acc: 0.8438\n",
            "Epoch 67/100\n",
            "60000/60000 [==============================] - 2s 36us/step - loss: 0.3886 - acc: 0.8691 - val_loss: 0.5021 - val_acc: 0.8422\n",
            "Epoch 68/100\n",
            "60000/60000 [==============================] - 2s 36us/step - loss: 0.3882 - acc: 0.8690 - val_loss: 0.5005 - val_acc: 0.8426\n",
            "Epoch 69/100\n",
            "60000/60000 [==============================] - 2s 36us/step - loss: 0.3883 - acc: 0.8683 - val_loss: 0.5035 - val_acc: 0.8393\n",
            "Epoch 70/100\n",
            "60000/60000 [==============================] - 2s 36us/step - loss: 0.3884 - acc: 0.8683 - val_loss: 0.5010 - val_acc: 0.8405\n",
            "Epoch 71/100\n",
            "60000/60000 [==============================] - 2s 36us/step - loss: 0.3879 - acc: 0.8698 - val_loss: 0.5021 - val_acc: 0.8430\n",
            "Epoch 72/100\n",
            "60000/60000 [==============================] - 2s 37us/step - loss: 0.3880 - acc: 0.8681 - val_loss: 0.5011 - val_acc: 0.8420\n",
            "Epoch 73/100\n",
            "60000/60000 [==============================] - 2s 36us/step - loss: 0.3878 - acc: 0.8691 - val_loss: 0.5056 - val_acc: 0.8409\n",
            "Epoch 74/100\n",
            "60000/60000 [==============================] - 2s 37us/step - loss: 0.3878 - acc: 0.8681 - val_loss: 0.5053 - val_acc: 0.8410\n",
            "Epoch 75/100\n",
            "60000/60000 [==============================] - 2s 38us/step - loss: 0.3882 - acc: 0.8691 - val_loss: 0.5015 - val_acc: 0.8408\n",
            "Epoch 76/100\n",
            "60000/60000 [==============================] - 2s 37us/step - loss: 0.3877 - acc: 0.8686 - val_loss: 0.5023 - val_acc: 0.8404\n",
            "Epoch 77/100\n",
            "60000/60000 [==============================] - 2s 38us/step - loss: 0.3874 - acc: 0.8694 - val_loss: 0.5023 - val_acc: 0.8435\n",
            "Epoch 78/100\n",
            "60000/60000 [==============================] - 2s 39us/step - loss: 0.3879 - acc: 0.8687 - val_loss: 0.5070 - val_acc: 0.8400\n",
            "Epoch 79/100\n",
            "60000/60000 [==============================] - 2s 42us/step - loss: 0.3879 - acc: 0.8687 - val_loss: 0.5037 - val_acc: 0.8406\n",
            "Epoch 80/100\n",
            "60000/60000 [==============================] - 2s 41us/step - loss: 0.3876 - acc: 0.8689 - val_loss: 0.5052 - val_acc: 0.8412\n",
            "Epoch 81/100\n",
            "60000/60000 [==============================] - 2s 39us/step - loss: 0.3879 - acc: 0.8685 - val_loss: 0.5043 - val_acc: 0.8413\n",
            "Epoch 82/100\n",
            "60000/60000 [==============================] - 2s 41us/step - loss: 0.3877 - acc: 0.8691 - val_loss: 0.5090 - val_acc: 0.8411\n",
            "Epoch 83/100\n",
            "60000/60000 [==============================] - 2s 42us/step - loss: 0.3880 - acc: 0.8692 - val_loss: 0.5055 - val_acc: 0.8410\n",
            "Epoch 84/100\n",
            "60000/60000 [==============================] - 3s 43us/step - loss: 0.3877 - acc: 0.8686 - val_loss: 0.5072 - val_acc: 0.8418\n",
            "Epoch 85/100\n",
            "60000/60000 [==============================] - 2s 40us/step - loss: 0.3877 - acc: 0.8685 - val_loss: 0.5076 - val_acc: 0.8438\n",
            "Epoch 86/100\n",
            "60000/60000 [==============================] - 2s 41us/step - loss: 0.3882 - acc: 0.8690 - val_loss: 0.5072 - val_acc: 0.8406\n",
            "Epoch 87/100\n",
            "60000/60000 [==============================] - 2s 41us/step - loss: 0.3880 - acc: 0.8687 - val_loss: 0.5066 - val_acc: 0.8418\n",
            "Epoch 88/100\n",
            "60000/60000 [==============================] - 3s 42us/step - loss: 0.3875 - acc: 0.8690 - val_loss: 0.5170 - val_acc: 0.8392\n",
            "Epoch 89/100\n",
            "60000/60000 [==============================] - 2s 40us/step - loss: 0.3880 - acc: 0.8692 - val_loss: 0.5089 - val_acc: 0.8388\n",
            "Epoch 90/100\n",
            "60000/60000 [==============================] - 2s 38us/step - loss: 0.3881 - acc: 0.8691 - val_loss: 0.5119 - val_acc: 0.8396\n",
            "Epoch 91/100\n",
            "60000/60000 [==============================] - 2s 38us/step - loss: 0.3878 - acc: 0.8691 - val_loss: 0.5088 - val_acc: 0.8410\n",
            "Epoch 92/100\n",
            "60000/60000 [==============================] - 2s 38us/step - loss: 0.3883 - acc: 0.8684 - val_loss: 0.5101 - val_acc: 0.8379\n",
            "Epoch 93/100\n",
            "60000/60000 [==============================] - 2s 38us/step - loss: 0.3882 - acc: 0.8694 - val_loss: 0.5083 - val_acc: 0.8435\n",
            "Epoch 94/100\n",
            "60000/60000 [==============================] - 2s 38us/step - loss: 0.3878 - acc: 0.8693 - val_loss: 0.5111 - val_acc: 0.8407\n",
            "Epoch 95/100\n",
            "60000/60000 [==============================] - 2s 37us/step - loss: 0.3879 - acc: 0.8692 - val_loss: 0.5113 - val_acc: 0.8413\n",
            "Epoch 96/100\n",
            "60000/60000 [==============================] - 2s 39us/step - loss: 0.3880 - acc: 0.8692 - val_loss: 0.5106 - val_acc: 0.8422\n",
            "Epoch 97/100\n",
            "60000/60000 [==============================] - 2s 37us/step - loss: 0.3885 - acc: 0.8696 - val_loss: 0.5102 - val_acc: 0.8402\n",
            "Epoch 98/100\n",
            "60000/60000 [==============================] - 2s 38us/step - loss: 0.3885 - acc: 0.8698 - val_loss: 0.5170 - val_acc: 0.8369\n",
            "Epoch 99/100\n",
            "60000/60000 [==============================] - 2s 38us/step - loss: 0.3884 - acc: 0.8699 - val_loss: 0.5136 - val_acc: 0.8413\n",
            "Epoch 100/100\n",
            "60000/60000 [==============================] - 2s 39us/step - loss: 0.3887 - acc: 0.8686 - val_loss: 0.5162 - val_acc: 0.8387\n"
          ],
          "name": "stdout"
        }
      ]
    },
    {
      "metadata": {
        "id": "SSouBOYiy2UE",
        "colab_type": "text"
      },
      "cell_type": "markdown",
      "source": [
        "**Calculate the transfer learning model's accuracy and loss over the bottleneck features of the testing set.**"
      ]
    },
    {
      "metadata": {
        "id": "9_LHULQnR1vi",
        "colab_type": "code",
        "outputId": "5c57464f-434c-4882-c3fa-db0bf2fe60fc",
        "colab": {
          "base_uri": "https://localhost:8080/",
          "height": 99
        }
      },
      "cell_type": "code",
      "source": [
        "#Calculate the model's accuracy over the bottleneck features of the testing set. \n",
        "training_loss_accuracy = transfer_learning_model.evaluate(X_train_features, Y_train, verbose=0)\n",
        "print('Training Loss:', training_loss_accuracy[0])\n",
        "print(\"Training accuracy:\", training_loss_accuracy[1])\n",
        "\n",
        "testing_loss_accuracy = transfer_learning_model.evaluate(X_test_features, Y_test, verbose=0)\n",
        "print('\\nTesting Loss:', testing_loss_accuracy[0])\n",
        "print(\"Testing accuracy:\", testing_loss_accuracy[1])"
      ],
      "execution_count": 0,
      "outputs": [
        {
          "output_type": "stream",
          "text": [
            "Training Loss: 0.3848395983715852\n",
            "Training accuracy: 0.8701333333333333\n",
            "\n",
            "Testing Loss: 0.5162077720880508\n",
            "Testing accuracy: 0.8387\n"
          ],
          "name": "stdout"
        }
      ]
    },
    {
      "metadata": {
        "id": "yoxHH-ULzTT2",
        "colab_type": "text"
      },
      "cell_type": "markdown",
      "source": [
        "**Plotting the visualization for the transfer learning model's accuracy and loss for the training and testing sets.**"
      ]
    },
    {
      "metadata": {
        "id": "O_AJPQbEU_VQ",
        "colab_type": "code",
        "outputId": "f32e4654-5fb5-4aa5-ed0a-83606728fb6f",
        "colab": {
          "base_uri": "https://localhost:8080/",
          "height": 571
        }
      },
      "cell_type": "code",
      "source": [
        "#Plot the visualization for the transfer learning model's accuracy \n",
        "#for the training and testing sets.\n",
        "plt.plot(report.history['acc'])\n",
        "plt.plot(report.history['val_acc'])\n",
        "plt.title(\"Transfer Learning Model's Accuracy\")\n",
        "plt.ylabel('Accuracy')\n",
        "plt.xlabel('Number of epochs')\n",
        "plt.legend(['Train', 'Test'], loc='upper left')\n",
        "plt.show()\n",
        "\n",
        "#Plot the visualization for the transfer learning model's loss \n",
        "#for the training and testing sets.\n",
        "plt.plot(report.history['loss'])\n",
        "plt.plot(report.history['val_loss'])\n",
        "plt.title(\"Transfer Learning Model's Loss\")\n",
        "plt.ylabel('Loss')\n",
        "plt.xlabel('Number of epochs')\n",
        "plt.legend(['Train', 'Test'], loc='upper left')\n",
        "plt.show()"
      ],
      "execution_count": 0,
      "outputs": [
        {
          "output_type": "display_data",
          "data": {
            "image/png": "[encoded data removed]",
            "text/plain": [
              "<matplotlib.figure.Figure at 0x7f072dee3be0>"
            ]
          },
          "metadata": {
            "tags": []
          }
        },
        {
          "output_type": "display_data",
          "data": {
            "image/png": "[encoded data removed]",
            "text/plain": [
              "<matplotlib.figure.Figure at 0x7f072dffbcf8>"
            ]
          },
          "metadata": {
            "tags": []
          }
        }
      ]
    }
  ]
}