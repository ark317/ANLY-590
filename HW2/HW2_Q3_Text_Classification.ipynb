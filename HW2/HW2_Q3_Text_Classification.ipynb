{
 "cells": [
  {
   "cell_type": "markdown",
   "metadata": {},
   "source": [
    "# Question 3.1) RNN for Text Classification\n",
    "Instructions: *Build and train a Recurrent Neural Network to solve this text classification task. You can use any type of RNN you wish (SimpleRNN, GRU, LSTM).*\n",
    "\n",
    "Below is my RNN model to solve the classification task."
   ]
  },
  {
   "cell_type": "code",
   "execution_count": 44,
   "metadata": {},
   "outputs": [],
   "source": [
    "from keras.optimizers import RMSprop\n",
    "from keras.callbacks import TensorBoard\n",
    "from keras.layers import Dense, SimpleRNN, LSTM, Embedding\n",
    "from keras.layers import Input, Conv2D, MaxPooling2D, MaxPool2D, GlobalMaxPooling1D\n",
    "from keras.layers import UpSampling2D, Dropout, Activation, Flatten\n",
    "from keras.models import Model, Sequential\n",
    "from keras import backend as K\n",
    "import tensorflow as tf\n",
    "import keras\n",
    "import numpy as np\n",
    "from keras.utils import np_utils\n",
    "%matplotlib inline\n",
    "from matplotlib import pyplot as plt\n",
    "from keras import regularizers\n",
    "from string import printable\n",
    "from keras.callbacks import TensorBoard\n",
    "from sklearn.metrics import roc_curve\n",
    "from sklearn.metrics import auc"
   ]
  },
  {
   "cell_type": "markdown",
   "metadata": {},
   "source": [
    "**Preprocess the URLs. **"
   ]
  },
  {
   "cell_type": "code",
   "execution_count": 45,
   "metadata": {},
   "outputs": [],
   "source": [
    "#First, we open the malicious-urls file and parse the URLs. \n",
    "malicious_urls_file = open(\"malicious-urls.txt\")\n",
    "malicious_urls_list = [url.strip() for url in malicious_urls_file]"
   ]
  },
  {
   "cell_type": "code",
   "execution_count": 46,
   "metadata": {},
   "outputs": [],
   "source": [
    "#Now, we open the benign-urls file and parse its URLs.\n",
    "benign_urls_file = open(\"benign-urls.txt\")\n",
    "benign_urls_list = [url.strip() for url in benign_urls_file]"
   ]
  },
  {
   "cell_type": "code",
   "execution_count": 47,
   "metadata": {},
   "outputs": [],
   "source": [
    "#Concatenate both the malicious and the benign urls to form our training data. \n",
    "urls = malicious_urls_list + benign_urls_list\n",
    "malicious_urls_labels = [1] * len(malicious_urls_list) #assign 1 to the labels of the malicious urls.\n",
    "benign_urls_labels = [0] * len(benign_urls_list)       #assign 0 to the labels of the benign urls.\n",
    "\n",
    "Y = malicious_urls_labels + benign_urls_labels\n",
    "Y = np.array(Y)"
   ]
  },
  {
   "cell_type": "code",
   "execution_count": 48,
   "metadata": {},
   "outputs": [],
   "source": [
    "from keras.preprocessing.sequence import pad_sequences\n",
    "from string import printable"
   ]
  },
  {
   "cell_type": "markdown",
   "metadata": {},
   "source": [
    "**Convert the urls to integer representations.**"
   ]
  },
  {
   "cell_type": "code",
   "execution_count": 49,
   "metadata": {},
   "outputs": [],
   "source": [
    "#Convert the urls to integer representations, using their index in 'printable', which lists\n",
    "#all of the ASCII characters that we can print. \n",
    "#Also, we will find the maximum url length so that we can pad all urls to its size. \n",
    "url_int_representation = []\n",
    "max_url_length = 0\n",
    "\n",
    "for url in list(urls):\n",
    "    url_chars = []\n",
    "    for char in url:\n",
    "        #url_chars.append(ord(char) % len(printable))\n",
    "        url_chars.append(printable.index(char))\n",
    "    if len(url_chars) > 0:\n",
    "        url_int_representation.append(url_chars)\n",
    "    if len(url_chars) > max_url_length:\n",
    "        max_url_length = len(url_chars) #Keep track of the length of the longest URL."
   ]
  },
  {
   "cell_type": "code",
   "execution_count": 50,
   "metadata": {},
   "outputs": [
    {
     "name": "stdout",
     "output_type": "stream",
     "text": [
      "max_url_length: 86\n"
     ]
    }
   ],
   "source": [
    "#Pad all the urls to the longest url, for consistency.\n",
    "print(\"max_url_length:\", max_url_length)\n",
    "X = pad_sequences(url_int_representation, maxlen = max_url_length)\n",
    "X = np.array(X)"
   ]
  },
  {
   "cell_type": "code",
   "execution_count": 51,
   "metadata": {},
   "outputs": [
    {
     "name": "stdout",
     "output_type": "stream",
     "text": [
      "X.shape: (67353, 86)\n",
      "Y.shape: (67353,)\n"
     ]
    }
   ],
   "source": [
    "print(\"X.shape:\", X.shape)\n",
    "print(\"Y.shape:\", Y.shape)"
   ]
  },
  {
   "cell_type": "code",
   "execution_count": 52,
   "metadata": {},
   "outputs": [],
   "source": [
    "#Split data into training and testing set. \n",
    "from sklearn.model_selection import train_test_split\n",
    "X_train, X_test, Y_train, Y_test = train_test_split(X, Y, test_size=0.25, random_state = 0)\n"
   ]
  },
  {
   "cell_type": "code",
   "execution_count": 53,
   "metadata": {},
   "outputs": [
    {
     "name": "stdout",
     "output_type": "stream",
     "text": [
      "X_train.shape: (50514, 86)\n",
      "X_test.shape: (16839, 86)\n",
      "Y_train.shape: (50514,)\n",
      "Y_test.shape: (16839,)\n"
     ]
    }
   ],
   "source": [
    "print(\"X_train.shape:\", X_train.shape)\n",
    "print(\"X_test.shape:\", X_test.shape)\n",
    "print(\"Y_train.shape:\", Y_train.shape)\n",
    "print(\"Y_test.shape:\", Y_test.shape)"
   ]
  },
  {
   "cell_type": "code",
   "execution_count": 54,
   "metadata": {},
   "outputs": [],
   "source": [
    "X_train = np.array(X_train)\n",
    "X_test = np.array(X_test)\n",
    "Y_train = np.array(Y_train)\n",
    "Y_test = np.array(Y_test)\n"
   ]
  },
  {
   "cell_type": "markdown",
   "metadata": {},
   "source": [
    "**Create the RNN model for binary classification. **"
   ]
  },
  {
   "cell_type": "code",
   "execution_count": 55,
   "metadata": {},
   "outputs": [
    {
     "name": "stderr",
     "output_type": "stream",
     "text": [
      "/anaconda3/lib/python3.6/site-packages/ipykernel_launcher.py:16: UserWarning: The `dropout` argument is no longer support in `Embedding`. You can apply a `keras.layers.SpatialDropout1D` layer right after the `Embedding` layer to get the same behavior.\n",
      "  app.launch_new_instance()\n",
      "/anaconda3/lib/python3.6/site-packages/ipykernel_launcher.py:16: UserWarning: Update your `Embedding` call to the Keras 2 API: `Embedding(input_dim=100, output_dim=32, input_length=86, embeddings_regularizer=<keras.reg...)`\n",
      "  app.launch_new_instance()\n"
     ]
    }
   ],
   "source": [
    "#Define the layers for the RNN model. \n",
    "\n",
    "#getting size of all the characters we can print out -- the size of our vocab.\n",
    "vocab_size = len(printable) \n",
    "\n",
    "#Adding the input layer.\n",
    "input_layer = Input(shape=(max_url_length, ), dtype='int32')\n",
    "\n",
    "#Adding the embedding layer.\n",
    "embedding_layer = Embedding(input_dim = vocab_size, output_dim = 32, input_length = max_url_length, dropout=0.2, W_regularizer = regularizers.l2(1e-4))(input_layer) \n",
    "\n",
    "#Adding the Simple RNN layer with dropout to prevent overfitting.\n",
    "rnn_layer = SimpleRNN(32)(embedding_layer) \n",
    "rnn_layer = Dropout(0.5)(rnn_layer)\n",
    "\n",
    "#Adding the output layer with the sigmoid activiation function for binary classification.\n",
    "output_layer = Dense(1, activation='sigmoid')(rnn_layer)\n"
   ]
  },
  {
   "cell_type": "markdown",
   "metadata": {},
   "source": [
    "**Run the RNN model over 10 epochs.**"
   ]
  },
  {
   "cell_type": "code",
   "execution_count": 56,
   "metadata": {},
   "outputs": [
    {
     "name": "stdout",
     "output_type": "stream",
     "text": [
      "_________________________________________________________________\n",
      "Layer (type)                 Output Shape              Param #   \n",
      "=================================================================\n",
      "input_4 (InputLayer)         (None, 86)                0         \n",
      "_________________________________________________________________\n",
      "embedding_4 (Embedding)      (None, 86, 32)            3200      \n",
      "_________________________________________________________________\n",
      "simple_rnn_4 (SimpleRNN)     (None, 32)                2080      \n",
      "_________________________________________________________________\n",
      "dropout_4 (Dropout)          (None, 32)                0         \n",
      "_________________________________________________________________\n",
      "dense_4 (Dense)              (None, 1)                 33        \n",
      "=================================================================\n",
      "Total params: 5,313\n",
      "Trainable params: 5,313\n",
      "Non-trainable params: 0\n",
      "_________________________________________________________________\n"
     ]
    },
    {
     "name": "stderr",
     "output_type": "stream",
     "text": [
      "/anaconda3/lib/python3.6/site-packages/ipykernel_launcher.py:2: UserWarning: Update your `Model` call to the Keras 2 API: `Model(inputs=[<tf.Tenso..., outputs=[<tf.Tenso...)`\n",
      "  \n"
     ]
    }
   ],
   "source": [
    "#Creating the RNN model now using the layers we defined above. \n",
    "rnn_model = Model(input = [input_layer], output = [output_layer])\n",
    "rnn_model.compile(optimizer = 'adam', loss = 'binary_crossentropy', metrics=['accuracy'])\n",
    "rnn_model.summary()"
   ]
  },
  {
   "cell_type": "code",
   "execution_count": 57,
   "metadata": {},
   "outputs": [
    {
     "name": "stdout",
     "output_type": "stream",
     "text": [
      "Train on 50514 samples, validate on 16839 samples\n",
      "Epoch 1/10\n",
      "50514/50514 [==============================] - 50s 988us/step - loss: 0.0845 - acc: 0.9800 - val_loss: 0.0530 - val_acc: 0.9825\n",
      "Epoch 2/10\n",
      "50514/50514 [==============================] - 50s 998us/step - loss: 0.0407 - acc: 0.9852 - val_loss: 0.0249 - val_acc: 0.9887\n",
      "Epoch 3/10\n",
      "50514/50514 [==============================] - 48s 947us/step - loss: 0.0287 - acc: 0.9878 - val_loss: 0.0319 - val_acc: 0.9863\n",
      "Epoch 4/10\n",
      "50514/50514 [==============================] - 48s 949us/step - loss: 0.0267 - acc: 0.9886 - val_loss: 0.0226 - val_acc: 0.9893\n",
      "Epoch 5/10\n",
      "50514/50514 [==============================] - 48s 942us/step - loss: 0.0259 - acc: 0.9888 - val_loss: 0.0234 - val_acc: 0.9891\n",
      "Epoch 6/10\n",
      "50514/50514 [==============================] - 50s 1000us/step - loss: 0.0259 - acc: 0.9890 - val_loss: 0.0278 - val_acc: 0.9889\n",
      "Epoch 7/10\n",
      "50514/50514 [==============================] - 51s 1ms/step - loss: 0.0245 - acc: 0.9895 - val_loss: 0.0251 - val_acc: 0.9896\n",
      "Epoch 8/10\n",
      "50514/50514 [==============================] - 50s 987us/step - loss: 0.0242 - acc: 0.9894 - val_loss: 0.0220 - val_acc: 0.9907\n",
      "Epoch 9/10\n",
      "50514/50514 [==============================] - 51s 1ms/step - loss: 0.0267 - acc: 0.9891 - val_loss: 0.0236 - val_acc: 0.9904\n",
      "Epoch 10/10\n",
      "50514/50514 [==============================] - 50s 986us/step - loss: 0.0229 - acc: 0.9904 - val_loss: 0.0232 - val_acc: 0.9893\n"
     ]
    }
   ],
   "source": [
    "#Compile and run model with binary cross entropy (since we're using binary classification), and momentum with adam optimizer over 10 epochs.\n",
    "rnn_model.compile(loss='binary_crossentropy', optimizer='adam', metrics=['accuracy'])\n",
    "report = rnn_model.fit(X_train, Y_train, epochs = 10, shuffle = True, validation_data = (X_test, Y_test), batch_size = 32, callbacks = [TensorBoard(log_dir='/tmp/RNN_Classification')] )\n"
   ]
  },
  {
   "cell_type": "markdown",
   "metadata": {},
   "source": [
    "**Calculate the RNN model's accuracy and loss over the training and testing set.**"
   ]
  },
  {
   "cell_type": "code",
   "execution_count": 84,
   "metadata": {},
   "outputs": [
    {
     "name": "stdout",
     "output_type": "stream",
     "text": [
      "Training Loss: 0.019366887285045816\n",
      "Training accuracy: 0.9915468978802543\n",
      "\n",
      "Testing Loss: 0.023210817436562434\n",
      "Testing accuracy: 0.9892511431795237\n"
     ]
    }
   ],
   "source": [
    "#Calculate the model's accuracy and loss over the training and testing set. \n",
    "training_loss_accuracy = rnn_model.evaluate(X_train, Y_train, verbose=0)\n",
    "print('Training Loss:', training_loss_accuracy[0])\n",
    "print(\"Training accuracy:\", training_loss_accuracy[1])\n",
    "\n",
    "testing_loss_accuracy = rnn_model.evaluate(X_test, Y_test, verbose=0)\n",
    "print('\\nTesting Loss:', testing_loss_accuracy[0])\n",
    "print(\"Testing accuracy:\", testing_loss_accuracy[1])"
   ]
  },
  {
   "cell_type": "markdown",
   "metadata": {},
   "source": [
    "# Question 3.2) CNN for Text Classification\n",
    "\n",
    "Instructions: *Build and train a 1D CNN for this text classification task.*\n",
    "\n",
    "Below, is my CNN model to solve this classification task. "
   ]
  },
  {
   "cell_type": "markdown",
   "metadata": {},
   "source": [
    "**Preprocess the URLs.**"
   ]
  },
  {
   "cell_type": "code",
   "execution_count": 62,
   "metadata": {},
   "outputs": [],
   "source": [
    "#First, we open the malicious-urls file and parse the URLs. \n",
    "malicious_urls_file = open(\"malicious-urls.txt\")\n",
    "malicious_urls_list = [url.strip() for url in malicious_urls_file]"
   ]
  },
  {
   "cell_type": "code",
   "execution_count": 63,
   "metadata": {},
   "outputs": [],
   "source": [
    "benign_urls_file = open(\"benign-urls.txt\")\n",
    "benign_urls_list = [url.strip() for url in benign_urls_file]"
   ]
  },
  {
   "cell_type": "code",
   "execution_count": 64,
   "metadata": {},
   "outputs": [],
   "source": [
    "#Concatenate both the malicious and the benign urls to form our training data. \n",
    "urls = malicious_urls_list + benign_urls_list\n",
    "malicious_urls_labels = [1] * len(malicious_urls_list) #assign 1 to the labels of the malicious urls.\n",
    "benign_urls_labels = [0] * len(benign_urls_list)       #assign 0 to the labels of the benign urls.\n",
    "\n",
    "Y = malicious_urls_labels + benign_urls_labels\n",
    "Y = np.array(Y)"
   ]
  },
  {
   "cell_type": "markdown",
   "metadata": {},
   "source": [
    "**Convert the urls to integer representations.**"
   ]
  },
  {
   "cell_type": "code",
   "execution_count": 65,
   "metadata": {},
   "outputs": [],
   "source": [
    "#Convert the urls to integer representations, using their index in 'printable', which lists\n",
    "#all of the ASCII characters that we can print. \n",
    "#Also, we will find the maximum url length so that we can pad all urls to its size. \n",
    "url_int_representation = []\n",
    "max_url_length = 0\n",
    "\n",
    "for url in list(urls):\n",
    "    url_chars = []\n",
    "    for char in url:\n",
    "        #url_chars.append(ord(char))\n",
    "        url_chars.append(printable.index(char))\n",
    "    if len(url_chars) > 0:\n",
    "        url_int_representation.append(url_chars)\n",
    "    if len(url_chars) > max_url_length:\n",
    "        max_url_length = len(url_chars)"
   ]
  },
  {
   "cell_type": "code",
   "execution_count": 66,
   "metadata": {},
   "outputs": [],
   "source": [
    "#Pad X so that all of the url sequences are of the same length.\n",
    "X = pad_sequences(url_int_representation, maxlen = max_url_length)\n",
    "X = np.array(X)"
   ]
  },
  {
   "cell_type": "code",
   "execution_count": 67,
   "metadata": {},
   "outputs": [],
   "source": [
    "#Split X into the training set and testing set. \n",
    "from sklearn.model_selection import train_test_split\n",
    "X_train, X_test, Y_train, Y_test = train_test_split(X, Y, test_size=0.25, random_state = 0)"
   ]
  },
  {
   "cell_type": "code",
   "execution_count": 68,
   "metadata": {},
   "outputs": [
    {
     "name": "stdout",
     "output_type": "stream",
     "text": [
      "X_train.shape: (50514, 86)\n",
      "X_test.shape: (16839, 86)\n",
      "Y_train.shape: (50514,)\n",
      "Y_test.shape: (16839,)\n"
     ]
    }
   ],
   "source": [
    "#Print out the shapes of the training and testing data.\n",
    "print(\"X_train.shape:\", X_train.shape)\n",
    "print(\"X_test.shape:\", X_test.shape)\n",
    "print(\"Y_train.shape:\", Y_train.shape)\n",
    "print(\"Y_test.shape:\", Y_test.shape)"
   ]
  },
  {
   "cell_type": "code",
   "execution_count": 69,
   "metadata": {},
   "outputs": [],
   "source": [
    "#Constants for building the CNN model. \n",
    "vocab_size = len(printable) #100\n",
    "embedding_dimension = 32\n",
    "epochs = 100\n",
    "batch_size = 32 \n",
    "kernel_size = 3\n",
    "number_filters = 64"
   ]
  },
  {
   "cell_type": "markdown",
   "metadata": {},
   "source": [
    "**Create the CNN model for the binary classification.**"
   ]
  },
  {
   "cell_type": "code",
   "execution_count": 70,
   "metadata": {},
   "outputs": [],
   "source": [
    "#Create the CNN model for the binary classification.\n",
    "cnn_model = Sequential()\n",
    "\n",
    "#First, add an embedding layer which links the indices of the vocab into the embedding_dimension.\n",
    "#Then, we introduce dropout to prevent overfitting.\n",
    "cnn_model.add(Embedding(vocab_size, embedding_dimension, input_length = max_url_length))\n",
    "cnn_model.add(Dropout(0.3)) "
   ]
  },
  {
   "cell_type": "code",
   "execution_count": 71,
   "metadata": {},
   "outputs": [],
   "source": [
    "#Secondly, add a Convolution1D for learning the filters.\n",
    "#We use a stride of 1 and do not use padding. The feature detector is of size 3x3 with a stride of 1.\n",
    "cnn_model.add(Conv1D(number_filters, kernel_size, padding='valid', activation='relu', strides=1))"
   ]
  },
  {
   "cell_type": "code",
   "execution_count": 72,
   "metadata": {},
   "outputs": [],
   "source": [
    "#Add in globalmaxpooling1D to take the max vector over the steps dimension. \n",
    "cnn_model.add(GlobalMaxPooling1D())"
   ]
  },
  {
   "cell_type": "code",
   "execution_count": 73,
   "metadata": {},
   "outputs": [],
   "source": [
    "#Setting up the dense layer with 300 neurons.\n",
    "#Then, we introduce dropout to prevent overfitting.\n",
    "cnn_model.add(Dense(300))   \n",
    "cnn_model.add(Dropout(0.3))   \n",
    "cnn_model.add(Activation('relu'))"
   ]
  },
  {
   "cell_type": "code",
   "execution_count": 74,
   "metadata": {},
   "outputs": [],
   "source": [
    "#Setting up the output layer, which is sigmoid as we are using binary classification.\n",
    "cnn_model.add(Dense(1))\n",
    "cnn_model.add(Activation('sigmoid'))"
   ]
  },
  {
   "cell_type": "markdown",
   "metadata": {},
   "source": [
    "**Run CNN model over 10 epochs.**"
   ]
  },
  {
   "cell_type": "code",
   "execution_count": 77,
   "metadata": {},
   "outputs": [
    {
     "name": "stdout",
     "output_type": "stream",
     "text": [
      "Train on 50514 samples, validate on 16839 samples\n",
      "Epoch 1/10\n",
      "50514/50514 [==============================] - 21s 425us/step - loss: 0.0428 - acc: 0.9831 - val_loss: 0.0261 - val_acc: 0.9872\n",
      "Epoch 2/10\n",
      "50514/50514 [==============================] - 22s 430us/step - loss: 0.0314 - acc: 0.9861 - val_loss: 0.0227 - val_acc: 0.9898\n",
      "Epoch 3/10\n",
      "50514/50514 [==============================] - 21s 419us/step - loss: 0.0271 - acc: 0.9878 - val_loss: 0.0207 - val_acc: 0.9900\n",
      "Epoch 4/10\n",
      "50514/50514 [==============================] - 21s 408us/step - loss: 0.0238 - acc: 0.9892 - val_loss: 0.0192 - val_acc: 0.9905\n",
      "Epoch 5/10\n",
      "50514/50514 [==============================] - 22s 432us/step - loss: 0.0220 - acc: 0.9905 - val_loss: 0.0190 - val_acc: 0.9908\n",
      "Epoch 6/10\n",
      "50514/50514 [==============================] - 22s 438us/step - loss: 0.0214 - acc: 0.9904 - val_loss: 0.0183 - val_acc: 0.9917\n",
      "Epoch 7/10\n",
      "50514/50514 [==============================] - 22s 428us/step - loss: 0.0214 - acc: 0.9908 - val_loss: 0.0184 - val_acc: 0.9913\n",
      "Epoch 8/10\n",
      "50514/50514 [==============================] - 21s 416us/step - loss: 0.0206 - acc: 0.9915 - val_loss: 0.0175 - val_acc: 0.9917\n",
      "Epoch 9/10\n",
      "50514/50514 [==============================] - 21s 409us/step - loss: 0.0199 - acc: 0.9912 - val_loss: 0.0174 - val_acc: 0.9920\n",
      "Epoch 10/10\n",
      "50514/50514 [==============================] - 21s 417us/step - loss: 0.0195 - acc: 0.9917 - val_loss: 0.0169 - val_acc: 0.9920\n"
     ]
    }
   ],
   "source": [
    "#Use binary cross entropy as the loss function, and use momentum with the adam optimizer. \n",
    "#Train the model over 50 epochs.\n",
    "cnn_model.compile(loss='binary_crossentropy', optimizer='adam', metrics=['accuracy'])\n",
    "report = cnn_model.fit(X_train, Y_train, epochs = 10, shuffle = True, validation_data = (X_test, Y_test), batch_size = 32, callbacks = [TensorBoard(log_dir='/tmp/CNN_Classification')] )\n"
   ]
  },
  {
   "cell_type": "markdown",
   "metadata": {},
   "source": [
    "**Calculate the model's accuracy and loss over the training and testing set.**"
   ]
  },
  {
   "cell_type": "code",
   "execution_count": 83,
   "metadata": {},
   "outputs": [
    {
     "name": "stdout",
     "output_type": "stream",
     "text": [
      "Training Loss: 0.0120665177303727\n",
      "Training accuracy: 0.9948331155719207\n",
      "\n",
      "Testing Loss: 0.016885618429664285\n",
      "Testing accuracy: 0.9920422827958905\n"
     ]
    }
   ],
   "source": [
    "#Calculate the model's accuracy and loss over the training and testing set. \n",
    "training_loss_accuracy = cnn_model.evaluate(X_train, Y_train, verbose=0)\n",
    "print('Training Loss:', training_loss_accuracy[0])\n",
    "print(\"Training accuracy:\", training_loss_accuracy[1])\n",
    "\n",
    "testing_loss_accuracy = cnn_model.evaluate(X_test, Y_test, verbose=0)\n",
    "print('\\nTesting Loss:', testing_loss_accuracy[0])\n",
    "print(\"Testing accuracy:\", testing_loss_accuracy[1])"
   ]
  },
  {
   "cell_type": "markdown",
   "metadata": {},
   "source": [
    "# Question 3.3) ROC/AUC Analysis"
   ]
  },
  {
   "cell_type": "code",
   "execution_count": 79,
   "metadata": {},
   "outputs": [],
   "source": [
    "cnn_model_y_pred = cnn_model.predict(X_test).ravel()\n",
    "fpr_cnn_model, tpr_cnn_model, thresholds_cnn_model = roc_curve(Y_test, cnn_model_y_pred)\n",
    "\n",
    "rnn_model_y_pred = rnn_model.predict(X_test).ravel()\n",
    "fpr_rnn_model, tpr_rnn_model, thresholds_rnn_model = roc_curve(Y_test, rnn_model_y_pred)"
   ]
  },
  {
   "cell_type": "code",
   "execution_count": 80,
   "metadata": {},
   "outputs": [],
   "source": [
    "auc_cnn_model = auc(fpr_cnn_model, tpr_cnn_model)\n",
    "auc_rnn_model = auc(fpr_rnn_model, tpr_rnn_model)"
   ]
  },
  {
   "cell_type": "markdown",
   "metadata": {},
   "source": [
    "**ROC/AUC Analysis for both the CNN and LSTM models for this binary classification task.**"
   ]
  },
  {
   "cell_type": "code",
   "execution_count": 81,
   "metadata": {},
   "outputs": [
    {
     "data": {
      "image/png": "[encoded data removed]",
      "text/plain": [
       "<Figure size 432x288 with 1 Axes>"
      ]
     },
     "metadata": {},
     "output_type": "display_data"
    }
   ],
   "source": [
    "#ROC/AUC Analysis for both the CNN and RNN models for this binary classification task.\n",
    "plt.figure(1)\n",
    "plt.plot([0, 1], [0, 1], 'k--')\n",
    "plt.plot(fpr_cnn_model, tpr_cnn_model, label='CNN Model (area = {:.3f})'.format(auc_cnn_model))\n",
    "plt.plot(fpr_rnn_model, tpr_rnn_model, label='RNN Model (area = {:.3f})'.format(auc_rnn_model))\n",
    "plt.xlabel('FPR')\n",
    "plt.ylabel('TPR')\n",
    "plt.title('ROC Curve')\n",
    "plt.legend(loc='best')\n",
    "plt.show()"
   ]
  },
  {
   "cell_type": "markdown",
   "metadata": {},
   "source": [
    "**Zooming in at the top left corner, for a closer look.**"
   ]
  },
  {
   "cell_type": "code",
   "execution_count": 87,
   "metadata": {},
   "outputs": [
    {
     "data": {
      "image/png": "[encoded data removed]",
      "text/plain": [
       "<Figure size 432x288 with 1 Axes>"
      ]
     },
     "metadata": {},
     "output_type": "display_data"
    }
   ],
   "source": [
    "#Zooming in at the top left corner, for a closer look. \n",
    "plt.figure(2)\n",
    "plt.xlim(0, 0.2)\n",
    "plt.ylim(0.8, 1)\n",
    "plt.plot([0, 1], [0, 1], 'k--')\n",
    "plt.plot(fpr_cnn_model, tpr_cnn_model, label='CNN Model (area = {:.3f})'.format(auc_cnn_model))\n",
    "plt.plot(fpr_rnn_model, tpr_rnn_model, label='RNN Model (area = {:.3f})'.format(auc_rnn_model))\n",
    "plt.xlabel('FPR')\n",
    "plt.ylabel('TPR')\n",
    "plt.title('ROC Curve')\n",
    "plt.legend(loc='best')\n",
    "plt.show()"
   ]
  },
  {
   "cell_type": "markdown",
   "metadata": {},
   "source": [
    "Above, we plotted the ROC curve for both the RNN and the CNN models for binary classification. It would seem that the two models perform very well, although it seems that the CNN model does a slightly job at predicting malicious urls as opposed to the RNN model. With that being said, it is worth pointing out that these results are based on how the hyperparameters were tuned. If the hyperparameters are retuned, then the results could be different. In this problem, I trained both the CNN and RNN with the same batch size and number of epochs. "
   ]
  },
  {
   "cell_type": "code",
   "execution_count": null,
   "metadata": {},
   "outputs": [],
   "source": []
  }
 ],
 "metadata": {
  "kernelspec": {
   "display_name": "Python 3",
   "language": "python",
   "name": "python3"
  },
  "language_info": {
   "codemirror_mode": {
    "name": "ipython",
    "version": 3
   },
   "file_extension": ".py",
   "mimetype": "text/x-python",
   "name": "python",
   "nbconvert_exporter": "python",
   "pygments_lexer": "ipython3",
   "version": "3.6.5"
  }
 },
 "nbformat": 4,
 "nbformat_minor": 2
}
