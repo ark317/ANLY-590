{
 "cells": [
  {
   "cell_type": "markdown",
   "metadata": {},
   "source": [
    "# **Question 1) Autoencoder**\n",
    "\n",
    "Instructions: *A convolutional autoencoder is a particular flavor of autoencoder where we\n",
    "use convolutional layers instead of dense layers. We have previously applied\n",
    "autoencoders to images using only Dense layers and the result worked fairly\n",
    "well. However, the local spatial correlations of images imply that we should be\n",
    "able to do better using convolutional layers instead of Dense layers.*\n",
    "\n",
    "*Build and fit a convolutional autoencoder for the Fashion MNIST dataset.\n",
    "The components of this network will be many of the same pieces we’ve used\n",
    "with convolutional classification networks: Conv2D, MaxPooling, and so on.\n",
    "The encoder part of the network should run the input image through a few\n",
    "convolutional layers of your choice. The decoder part of the network will utilize\n",
    "UpSampling2D to get the representation back to the original image size.*\n",
    "\n",
    "*An example to guide your thinking can be found toward the bottom of this\n",
    "post https://blog.keras.io/building-autoencoders-in-keras.html.\n",
    "After training your network, visualize some examples of input images and\n",
    "their decoded reconstruction.*"
   ]
  },
  {
   "cell_type": "code",
   "execution_count": 48,
   "metadata": {},
   "outputs": [],
   "source": [
    "from keras.layers import Input, Dense, Conv2D, MaxPooling2D, UpSampling2D\n",
    "from keras.models import Model\n",
    "from keras import backend as K\n",
    "from keras.datasets import fashion_mnist\n",
    "import numpy as np\n",
    "from keras.utils import np_utils\n",
    "from keras.callbacks import TensorBoard\n",
    "import matplotlib.pyplot as plt"
   ]
  },
  {
   "cell_type": "markdown",
   "metadata": {},
   "source": [
    "**Load in the Fashion MNIST dataset into our training and testing sets.**"
   ]
  },
  {
   "cell_type": "code",
   "execution_count": 49,
   "metadata": {},
   "outputs": [],
   "source": [
    "#Load in the Fashion MNIST dataset into our training and testing sets.\n",
    "(X_train, Y_train), (X_test, Y_test) = fashion_mnist.load_data()\n",
    "\n",
    "X_train = X_train.astype('float32')\n",
    "X_test = X_test.astype('float32')\n"
   ]
  },
  {
   "cell_type": "code",
   "execution_count": 50,
   "metadata": {},
   "outputs": [
    {
     "name": "stdout",
     "output_type": "stream",
     "text": [
      "X_train.shape: (60000, 28, 28)\n",
      "X_test.shape: (10000, 28, 28)\n"
     ]
    }
   ],
   "source": [
    "print(\"X_train.shape:\", X_train.shape)\n",
    "print(\"X_test.shape:\", X_test.shape)"
   ]
  },
  {
   "cell_type": "code",
   "execution_count": 51,
   "metadata": {},
   "outputs": [],
   "source": [
    "#Reshape the images so that they're 28x28 and are using 1 channel, which is black and white.\n",
    "X_train = X_train.reshape(X_train.shape[0], 28, 28,1)\n",
    "X_test = X_test.reshape(X_test.shape[0], 28, 28,1)"
   ]
  },
  {
   "cell_type": "code",
   "execution_count": 52,
   "metadata": {},
   "outputs": [
    {
     "name": "stdout",
     "output_type": "stream",
     "text": [
      "X_train.shape: (60000, 28, 28, 1)\n",
      "X_test.shape: (10000, 28, 28, 1)\n"
     ]
    }
   ],
   "source": [
    "print(\"X_train.shape:\", X_train.shape)\n",
    "print(\"X_test.shape:\", X_test.shape)"
   ]
  },
  {
   "cell_type": "code",
   "execution_count": 53,
   "metadata": {},
   "outputs": [],
   "source": [
    "#Normalize the images.\n",
    "X_train /= 255\n",
    "X_test /= 255\n",
    "\n",
    "#One-hot encode the labels.\n",
    "Y_train = np_utils.to_categorical(Y_train, 10)\n",
    "Y_test = np_utils.to_categorical(Y_test, 10)"
   ]
  },
  {
   "cell_type": "markdown",
   "metadata": {},
   "source": [
    "**Add the layers to be used for our autoencoder.**"
   ]
  },
  {
   "cell_type": "code",
   "execution_count": 54,
   "metadata": {},
   "outputs": [],
   "source": [
    "#Adding input layer.\n",
    "input_layer = Input(shape=(28, 28, 1)) \n",
    "\n",
    "#Building our encoding layer. \n",
    "x = Conv2D(16, (3, 3), activation='relu', padding='same')(input_layer)\n",
    "x = MaxPooling2D((2, 2), padding='same')(x)\n",
    "x = Conv2D(8, (3, 3), activation='relu', padding='same')(x)\n",
    "x = MaxPooling2D((2, 2), padding='same')(x)\n",
    "x = Conv2D(8, (3, 3), activation='relu', padding='same')(x)\n",
    "encoded = MaxPooling2D((2, 2), padding='same')(x)\n",
    "\n",
    "#Building our decoding layer.\n",
    "x = Conv2D(8, (3, 3), activation='relu', padding='same')(encoded)\n",
    "x = UpSampling2D((2, 2))(x)\n",
    "x = Conv2D(8, (3, 3), activation='relu', padding='same')(x)\n",
    "x = UpSampling2D((2, 2))(x)\n",
    "x = Conv2D(16, (3, 3), activation='relu')(x)\n",
    "x = UpSampling2D((2, 2))(x)\n",
    "decoding_layer = Conv2D(1, (3, 3), activation='sigmoid', padding='same')(x)"
   ]
  },
  {
   "cell_type": "markdown",
   "metadata": {},
   "source": [
    "**Creating our autoencoder which will map the input to its decoded representation.**\n"
   ]
  },
  {
   "cell_type": "code",
   "execution_count": 55,
   "metadata": {},
   "outputs": [],
   "source": [
    "#Creating our autoencoder which will map the input to its decoded representation.\n",
    "autoencoder = Model(input_layer, decoding_layer)\n",
    "autoencoder.compile(optimizer='adadelta', loss='binary_crossentropy')"
   ]
  },
  {
   "cell_type": "code",
   "execution_count": 56,
   "metadata": {},
   "outputs": [
    {
     "name": "stdout",
     "output_type": "stream",
     "text": [
      "Train on 60000 samples, validate on 10000 samples\n",
      "Epoch 1/30\n",
      "60000/60000 [==============================] - 51s 852us/step - loss: 0.3828 - val_loss: 0.3455\n",
      "Epoch 2/30\n",
      "60000/60000 [==============================] - 49s 818us/step - loss: 0.3289 - val_loss: 0.3187\n",
      "Epoch 3/30\n",
      "60000/60000 [==============================] - 49s 813us/step - loss: 0.3161 - val_loss: 0.3154\n",
      "Epoch 4/30\n",
      "60000/60000 [==============================] - 48s 801us/step - loss: 0.3100 - val_loss: 0.3087\n",
      "Epoch 5/30\n",
      "60000/60000 [==============================] - 48s 799us/step - loss: 0.3066 - val_loss: 0.3046\n",
      "Epoch 6/30\n",
      "60000/60000 [==============================] - 47s 791us/step - loss: 0.3041 - val_loss: 0.3080\n",
      "Epoch 7/30\n",
      "60000/60000 [==============================] - 47s 785us/step - loss: 0.3022 - val_loss: 0.3027\n",
      "Epoch 8/30\n",
      "60000/60000 [==============================] - 46s 769us/step - loss: 0.3006 - val_loss: 0.3023\n",
      "Epoch 9/30\n",
      "60000/60000 [==============================] - 49s 813us/step - loss: 0.2991 - val_loss: 0.3034\n",
      "Epoch 10/30\n",
      "60000/60000 [==============================] - 48s 801us/step - loss: 0.2981 - val_loss: 0.3011\n",
      "Epoch 11/30\n",
      "60000/60000 [==============================] - 49s 814us/step - loss: 0.2970 - val_loss: 0.2985\n",
      "Epoch 12/30\n",
      "60000/60000 [==============================] - 48s 800us/step - loss: 0.2962 - val_loss: 0.2969\n",
      "Epoch 13/30\n",
      "60000/60000 [==============================] - 48s 806us/step - loss: 0.2956 - val_loss: 0.2965\n",
      "Epoch 14/30\n",
      "60000/60000 [==============================] - 48s 795us/step - loss: 0.2946 - val_loss: 0.2941\n",
      "Epoch 15/30\n",
      "60000/60000 [==============================] - 9641s 161ms/step - loss: 0.2940 - val_loss: 0.2951\n",
      "Epoch 16/30\n",
      "60000/60000 [==============================] - 17814s 297ms/step - loss: 0.2935 - val_loss: 0.2939\n",
      "Epoch 17/30\n",
      "60000/60000 [==============================] - 52s 863us/step - loss: 0.2927 - val_loss: 0.2933\n",
      "Epoch 18/30\n",
      "60000/60000 [==============================] - 54s 895us/step - loss: 0.2925 - val_loss: 0.2922\n",
      "Epoch 19/30\n",
      "60000/60000 [==============================] - 49s 820us/step - loss: 0.2920 - val_loss: 0.2932\n",
      "Epoch 20/30\n",
      "60000/60000 [==============================] - 49s 810us/step - loss: 0.2916 - val_loss: 0.2933\n",
      "Epoch 21/30\n",
      "60000/60000 [==============================] - 51s 856us/step - loss: 0.2908 - val_loss: 0.2948\n",
      "Epoch 22/30\n",
      "60000/60000 [==============================] - 52s 870us/step - loss: 0.2907 - val_loss: 0.2972\n",
      "Epoch 23/30\n",
      "60000/60000 [==============================] - 50s 841us/step - loss: 0.2905 - val_loss: 0.2909\n",
      "Epoch 24/30\n",
      "60000/60000 [==============================] - 52s 864us/step - loss: 0.2900 - val_loss: 0.2904\n",
      "Epoch 25/30\n",
      "60000/60000 [==============================] - 52s 865us/step - loss: 0.2896 - val_loss: 0.2933\n",
      "Epoch 26/30\n",
      "60000/60000 [==============================] - 53s 885us/step - loss: 0.2894 - val_loss: 0.2895\n",
      "Epoch 27/30\n",
      "60000/60000 [==============================] - 51s 851us/step - loss: 0.2892 - val_loss: 0.2900\n",
      "Epoch 28/30\n",
      "60000/60000 [==============================] - 53s 887us/step - loss: 0.2888 - val_loss: 0.2918\n",
      "Epoch 29/30\n",
      "60000/60000 [==============================] - 52s 867us/step - loss: 0.2888 - val_loss: 0.2897\n",
      "Epoch 30/30\n",
      "60000/60000 [==============================] - 51s 842us/step - loss: 0.2881 - val_loss: 0.2903\n"
     ]
    },
    {
     "data": {
      "text/plain": [
       "<keras.callbacks.History at 0x1c3e002630>"
      ]
     },
     "execution_count": 56,
     "metadata": {},
     "output_type": "execute_result"
    }
   ],
   "source": [
    "autoencoder.fit(X_train, X_train, epochs=30, batch_size=128, shuffle=True, validation_data=(X_test, X_test), callbacks=[TensorBoard(log_dir='/tmp/autoencoder')])"
   ]
  },
  {
   "cell_type": "markdown",
   "metadata": {},
   "source": [
    "**Now, we will visualize six input images and their reconstructed representations.**"
   ]
  },
  {
   "cell_type": "code",
   "execution_count": 65,
   "metadata": {},
   "outputs": [
    {
     "data": {
      "image/png": "[encoded data removed]",
      "text/plain": [
       "<Figure size 1440x288 with 12 Axes>"
      ]
     },
     "metadata": {},
     "output_type": "display_data"
    }
   ],
   "source": [
    "#Now, we will visualize the input images and their reconstructed representation.\n",
    "decoded_images = autoencoder.predict(X_test)\n",
    "\n",
    "n = 6 #visualize 6 images. \n",
    "plt.figure(figsize=(20, 4))\n",
    "for i in range(1, n+1):\n",
    "    # display original images. \n",
    "    ax = plt.subplot(2, n, i)\n",
    "    plt.imshow(X_test[i].reshape(28, 28))\n",
    "    plt.gray()\n",
    "    ax.get_xaxis().set_visible(False)\n",
    "    ax.get_yaxis().set_visible(False)\n",
    "\n",
    "    # display lossy reconstructed images. \n",
    "    ax = plt.subplot(2, n, i + n)\n",
    "    plt.imshow(decoded_images[i].reshape(28, 28))\n",
    "    plt.gray()\n",
    "    ax.get_xaxis().set_visible(False)\n",
    "    ax.get_yaxis().set_visible(False)\n",
    "plt.show() #display the images. "
   ]
  }
 ],
 "metadata": {
  "kernelspec": {
   "display_name": "Python 3",
   "language": "python",
   "name": "python3"
  },
  "language_info": {
   "codemirror_mode": {
    "name": "ipython",
    "version": 3
   },
   "file_extension": ".py",
   "mimetype": "text/x-python",
   "name": "python",
   "nbconvert_exporter": "python",
   "pygments_lexer": "ipython3",
   "version": "3.6.5"
  }
 },
 "nbformat": 4,
 "nbformat_minor": 2
}
